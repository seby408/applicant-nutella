{
 "cells": [
  {
   "cell_type": "code",
   "execution_count": 2,
   "metadata": {},
   "outputs": [],
   "source": [
    "#Import Libraries\n",
    "import pandas as pd\n",
    "import numpy as np\n",
    "import re\n",
    "from fuzzywuzzy import fuzz\n",
    "from fuzzywuzzy import process"
   ]
  },
  {
   "cell_type": "code",
   "execution_count": 3,
   "metadata": {},
   "outputs": [],
   "source": [
    "education = pd.read_csv('education.csv')"
   ]
  },
  {
   "cell_type": "code",
   "execution_count": 4,
   "metadata": {},
   "outputs": [],
   "source": [
    "# Create a data frame\n",
    "education = pd.DataFrame(education)"
   ]
  },
  {
   "cell_type": "code",
   "execution_count": 5,
   "metadata": {},
   "outputs": [
    {
     "data": {
      "text/plain": [
       "0             ['Bachelors of Arts', 'Associate of Arts']\n",
       "1                                               ['B.A.']\n",
       "2                  ['Certificate of Completion', 'B.S.']\n",
       "3                                ['Bachelor of Science']\n",
       "4                                                ['MBA']\n",
       "5                 ['BSc', 'International Baccalaureate']\n",
       "6                                               ['B.A.']\n",
       "7                                     ['MA', 'Bachelor']\n",
       "8                                       ['M.D.', 'B.A.']\n",
       "9                                   ['Bachelor of Arts']\n",
       "10                               ['Bachelor of Science']\n",
       "11                                                    []\n",
       "12                                              ['B.S.']\n",
       "13                                        [\"Bachelor's\"]\n",
       "14                           ['Bachelor of Accountancy']\n",
       "15                            ['PH.D.', 'Ph.D.', 'B.S.']\n",
       "16                                         ['BACHELORS']\n",
       "17                           ['B.F.A.', 'Certification']\n",
       "18                                      ['M.S.', 'M.S.']\n",
       "19                                 ['MBA', 'Licentiate']\n",
       "20                                ['Associates of Arts']\n",
       "21                                                ['BA']\n",
       "22                                              ['B.A.']\n",
       "23     ['Master of Business Administration', 'Bachelo...\n",
       "24                             ['Bachelor of Fine Arts']\n",
       "25                                                    []\n",
       "26                              ['Masters', 'Bachelors']\n",
       "27                              ['Juris Doctor', 'B.A.']\n",
       "28                                              ['B.A.']\n",
       "29        ['MBA', 'Bachelor of Business Administration']\n",
       "                             ...                        \n",
       "970                              ['Bachelor of Science']\n",
       "971                                             ['B.A.']\n",
       "972                                                   []\n",
       "973                        ['MS', 'Bachelor of Science']\n",
       "974                                      ['Certificate']\n",
       "975               [\"Master's\", 'B. A.', 'certification']\n",
       "976                                         [\"Master's\"]\n",
       "977                                 ['Bachelor of Arts']\n",
       "978          ['Certificate', 'Postgraduate Certificate']\n",
       "979    ['Master of management Studies', 'Bachelor of ...\n",
       "980                                               ['BA']\n",
       "981                                             ['B.A.']\n",
       "982                                 ['Bachelor of Arts']\n",
       "983    ['Bachelor of Arts', 'Certificate', 'Certifica...\n",
       "984                                             ['M.S.']\n",
       "985                             ['Certification', 'B.E']\n",
       "986               ['PG Diploma', 'P G Diploma', 'B.Com']\n",
       "987                                            ['B.F.A']\n",
       "988    ['Master of Business Administration', 'Bachelo...\n",
       "989                                 ['Bachelor of Arts']\n",
       "990              ['Juris Doctorate', 'Bachelor of Arts']\n",
       "991              ['Associates of Science', 'Associates']\n",
       "992                              ['Bachelor of Science']\n",
       "993                    ['Certificate', 'M.Sc.', 'B.Sc.']\n",
       "994    ['Post-Baccalaureate Certificate', 'Bachelor o...\n",
       "995              ['Bachelor of Business Administration']\n",
       "996                              ['Bachelor of Science']\n",
       "997                                                   []\n",
       "998    ['Master of Communication Management', 'Bachel...\n",
       "999                                ['Bachelors of Arts']\n",
       "Name: degrees, Length: 1000, dtype: object"
      ]
     },
     "execution_count": 5,
     "metadata": {},
     "output_type": "execute_result"
    }
   ],
   "source": [
    "# Convert \"object\" to \"string\" type\n",
    "education.school.apply(str)\n",
    "education.degrees.apply(str)"
   ]
  },
  {
   "cell_type": "code",
   "execution_count": 6,
   "metadata": {},
   "outputs": [
    {
     "data": {
      "text/plain": [
       "0                   Bachelors of Arts, Associate of Arts\n",
       "1                                                     BA\n",
       "2                          Certificate of Completion, BS\n",
       "3                                    Bachelor of Science\n",
       "4                                                    MBA\n",
       "5                       BSc, International Baccalaureate\n",
       "6                                                     BA\n",
       "7                                           MA, Bachelor\n",
       "8                                                 MD, BA\n",
       "9                                       Bachelor of Arts\n",
       "10                                   Bachelor of Science\n",
       "11                                                      \n",
       "12                                                    BS\n",
       "13                                             Bachelors\n",
       "14                               Bachelor of Accountancy\n",
       "15                                          PHD, PhD, BS\n",
       "16                                             BACHELORS\n",
       "17                                    BFA, Certification\n",
       "18                                                MS, MS\n",
       "19                                       MBA, Licentiate\n",
       "20                                    Associates of Arts\n",
       "21                                                    BA\n",
       "22                                                    BA\n",
       "23     Master of Business Administration, Bachelor of...\n",
       "24                                 Bachelor of Fine Arts\n",
       "25                                                      \n",
       "26                                    Masters, Bachelors\n",
       "27                                      Juris Doctor, BA\n",
       "28                                                    BA\n",
       "29              MBA, Bachelor of Business Administration\n",
       "                             ...                        \n",
       "970                                  Bachelor of Science\n",
       "971                                                   BA\n",
       "972                                                     \n",
       "973                              MS, Bachelor of Science\n",
       "974                                          Certificate\n",
       "975                          Masters, B A, certification\n",
       "976                                              Masters\n",
       "977                                     Bachelor of Arts\n",
       "978                Certificate, Postgraduate Certificate\n",
       "979    Master of management Studies, Bachelor of Engi...\n",
       "980                                                   BA\n",
       "981                                                   BA\n",
       "982                                     Bachelor of Arts\n",
       "983           Bachelor of Arts, Certificate, Certificate\n",
       "984                                                   MS\n",
       "985                                    Certification, BE\n",
       "986                        PG Diploma, P G Diploma, BCom\n",
       "987                                                  BFA\n",
       "988    Master of Business Administration, Bachelor of...\n",
       "989                                     Bachelor of Arts\n",
       "990                    Juris Doctorate, Bachelor of Arts\n",
       "991                    Associates of Science, Associates\n",
       "992                                  Bachelor of Science\n",
       "993                                Certificate, MSc, BSc\n",
       "994     Post-Baccalaureate Certificate, Bachelor of Arts\n",
       "995                  Bachelor of Business Administration\n",
       "996                                  Bachelor of Science\n",
       "997                                                     \n",
       "998    Master of Communication Management, Bachelor o...\n",
       "999                                    Bachelors of Arts\n",
       "Name: degrees, Length: 1000, dtype: object"
      ]
     },
     "execution_count": 6,
     "metadata": {},
     "output_type": "execute_result"
    }
   ],
   "source": [
    "#Cleaning up Degrees\n",
    "education.degrees = education.degrees.str.strip(\"[.]''\")\n",
    "education.degrees = education.degrees.str.replace(\".\",\"\")\n",
    "education.degrees = education.degrees.str.replace(\"'\",\"\")\n",
    "education.degrees = education.degrees.str.replace('\"', '')\n",
    "\n",
    "education.degrees"
   ]
  },
  {
   "cell_type": "code",
   "execution_count": null,
   "metadata": {},
   "outputs": [],
   "source": []
  }
 ],
 "metadata": {
  "kernelspec": {
   "display_name": "Python 3",
   "language": "python",
   "name": "python3"
  },
  "language_info": {
   "codemirror_mode": {
    "name": "ipython",
    "version": 3
   },
   "file_extension": ".py",
   "mimetype": "text/x-python",
   "name": "python",
   "nbconvert_exporter": "python",
   "pygments_lexer": "ipython3",
   "version": "3.6.5"
  }
 },
 "nbformat": 4,
 "nbformat_minor": 2
}
